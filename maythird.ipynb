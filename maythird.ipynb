{
 "cells": [
  {
   "cell_type": "code",
   "execution_count": 30,
   "id": "51075bdc",
   "metadata": {},
   "outputs": [],
   "source": [
    "import itertools\n",
    "import random\n",
    "import tqdm\n",
    "from linear_algebra import squared_distance\n",
    "from linear_algebra import vector_mean\n",
    "from linear_algebra import Vector\n",
    "from typing import List\n",
    "from linear_algebra import Vector\n",
    "\n",
    "def num_differences(v1: Vector, v2: Vector) -> int:\n",
    "    assert len(v1) == len(v2)\n",
    "    return len([x1 for x1, x2 in zip(v1, v2) if x1 != x2])\n",
    "\n",
    "assert num_differences([1, 2, 3], [2, 1, 3]) == 2\n",
    "assert num_differences([1, 2], [1, 2]) == 0\n",
    "\n",
    "def cluster_means(k: int,\n",
    "                 inputs: List[Vector],\n",
    "                 assignments: List[int]) -> List[Vector]:\n",
    "    # clusters[i] contains the inputs whose assignment is i\n",
    "    clusters = [[] for i in range(k)]\n",
    "    for input, assignment in zip(inputs, assignments):\n",
    "        clusters[assignment].append(input)\n",
    "\n",
    "    # if a cluster is empty, just use a random point\n",
    "    return [vector_mean(cluster) if cluster else random.choice(inputs)\n",
    "           for cluster in clusters]\n",
    "class KMeans:\n",
    "    def __init__(self, k: int) -> None:\n",
    "        self.k = k # number of clusters\n",
    "        self.means = None\n",
    "        \n",
    "    def classify(self, input: Vector) -> int:\n",
    "        \"\"\"return the index of the cluster closest to the input\"\"\"\n",
    "        return min(range(self.k),\n",
    "        key=lambda i: squared_distance(input, self.means[i]))\n",
    "\n",
    "    def train(self, inputs: List[Vector]) -> None:\n",
    "        # Start with random assignments\n",
    "        assignments = [random.randrange(self.k) for _ in inputs]\n",
    "    \n",
    "        with tqdm.tqdm(itertools.count()) as t:\n",
    "            for _ in t:\n",
    "                # Compute means and find new assignments\n",
    "                self.means = cluster_means(self.k, inputs, assignments)\n",
    "                new_assignments = [self.classify(input) for input in inputs]\n",
    "        \n",
    "                # Check how many assignments changed and if we're done\n",
    "                num_changed = num_differences(assignments, new_assignments)\n",
    "                if num_changed == 0:\n",
    "                    return\n",
    "        \n",
    "                # Otherwise keep the new assignments, and compute new means\n",
    "                assignments = new_assignments\n",
    "                self.means = cluster_means(self.k, inputs, assignments)\n",
    "                t.set_description(f\"changed: {num_changed} / {len(inputs)}\")"
   ]
  },
  {
   "cell_type": "code",
   "execution_count": 31,
   "id": "a8636fc4",
   "metadata": {},
   "outputs": [],
   "source": [
    "path = \"./2.jpg\"\n",
    "import matplotlib.image as mpimg\n",
    "import random\n",
    "img = mpimg.imread(path)/256"
   ]
  },
  {
   "cell_type": "code",
   "execution_count": 32,
   "id": "420e4f03",
   "metadata": {},
   "outputs": [],
   "source": [
    "top_row = img[0]\n",
    "top_left_pixel = top_row[0]\n",
    "red, green, blue = top_left_pixel"
   ]
  },
  {
   "cell_type": "code",
   "execution_count": 33,
   "id": "6a9b1866",
   "metadata": {},
   "outputs": [],
   "source": [
    "pixels=[pixel for row in img for pixel in row]"
   ]
  },
  {
   "cell_type": "code",
   "execution_count": 42,
   "id": "978de3a8",
   "metadata": {},
   "outputs": [
    {
     "name": "stderr",
     "output_type": "stream",
     "text": [
      "changed: 2 / 135000: : 15it [00:32,  2.15s/it]   \n"
     ]
    }
   ],
   "source": [
    "clusterer = KMeans(2)\n",
    "clusterer.train(pixels)"
   ]
  },
  {
   "cell_type": "code",
   "execution_count": 43,
   "id": "6b2e2a03",
   "metadata": {},
   "outputs": [],
   "source": [
    "def recolor(pixel):\n",
    "    cluster = clusterer.classify(pixel)\n",
    "    return clusterer.means[cluster]\n"
   ]
  },
  {
   "cell_type": "code",
   "execution_count": 44,
   "id": "9dc4703b",
   "metadata": {},
   "outputs": [],
   "source": [
    "new_img = [[recolor(pixel) for pixel in row]\n",
    "          for row in img]\n"
   ]
  },
  {
   "cell_type": "code",
   "execution_count": 45,
   "id": "5e120f21",
   "metadata": {},
   "outputs": [
    {
     "data": {
      "image/png": "[encoded data removed]",
      "text/plain": [
       "<Figure size 432x288 with 1 Axes>"
      ]
     },
     "metadata": {
      "needs_background": "light"
     },
     "output_type": "display_data"
    }
   ],
   "source": [
    "import matplotlib.pyplot as plt\n",
    "plt.imshow(new_img)\n",
    "plt.axis('off')\n",
    "plt.show()"
   ]
  },
  {
   "cell_type": "code",
   "execution_count": null,
   "id": "f18d69d3",
   "metadata": {},
   "outputs": [],
   "source": []
  },
  {
   "cell_type": "code",
   "execution_count": null,
   "id": "13fce802",
   "metadata": {},
   "outputs": [],
   "source": []
  }
 ],
 "metadata": {
  "kernelspec": {
   "display_name": "Python 3 (ipykernel)",
   "language": "python",
   "name": "python3"
  },
  "language_info": {
   "codemirror_mode": {
    "name": "ipython",
    "version": 3
   },
   "file_extension": ".py",
   "mimetype": "text/x-python",
   "name": "python",
   "nbconvert_exporter": "python",
   "pygments_lexer": "ipython3",
   "version": "3.9.7"
  }
 },
 "nbformat": 4,
 "nbformat_minor": 5
}
